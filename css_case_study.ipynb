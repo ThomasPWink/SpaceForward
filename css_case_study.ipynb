{
 "cells": [
  {
   "cell_type": "code",
   "execution_count": 1,
   "id": "73fbb5f3",
   "metadata": {},
   "outputs": [],
   "source": [
    "from bs4 import BeautifulSoup as soup"
   ]
  },
  {
   "cell_type": "code",
   "execution_count": 2,
   "id": "74f7f609",
   "metadata": {},
   "outputs": [],
   "source": [
    "html = \"\"\"\n",
    "<!DOCTYPE html>\n",
    "<html lang=\"en\">\n",
    "\n",
    "<head>\n",
    "    <meta charset=\"UTF-8\">\n",
    "    <meta http-equiv=\"X-UA-Compatible\" content=\"IE=edge\">\n",
    "    <meta name=\"viewport\" content=\"width=device-width, initial-scale=1.0\">\n",
    "    <title>Document</title>\n",
    "</head>\n",
    "\n",
    "<style>\n",
    "    .even {\n",
    "        color: blue;\n",
    "    }\n",
    "\n",
    "    .odd {\n",
    "        color: green;\n",
    "    }\n",
    "</style>\n",
    "\n",
    "<body>\n",
    "    <div>\n",
    "        <p class=\"odd\" id=\"first\">First</p>\n",
    "        <p class=\"even\" id=\"second\">Second</p>\n",
    "        <p class=\"odd\" id=\"third\">Third</p>\n",
    "    </div>\n",
    "\n",
    "    <div>\n",
    "        <p class=\"even\" id=\"fourth\">Fourth</p>\n",
    "        <p class=\"odd\" id=\"fifth\">Fifth</p>\n",
    "        <p class=\"even\" id=\"sixth\">Sixth</p>\n",
    "    </div>\n",
    "</body>\n",
    "\n",
    "</html>\n",
    "\"\"\""
   ]
  },
  {
   "cell_type": "code",
   "execution_count": 3,
   "id": "d7de43ec",
   "metadata": {},
   "outputs": [],
   "source": [
    "html_soup = soup(html, 'html.parser')"
   ]
  },
  {
   "cell_type": "code",
   "execution_count": 7,
   "id": "4e082dec",
   "metadata": {},
   "outputs": [],
   "source": [
    "odds = html_soup.find_all(\"p\", class_=\"odd\")"
   ]
  },
  {
   "cell_type": "code",
   "execution_count": 8,
   "id": "5cfc31e1",
   "metadata": {},
   "outputs": [
    {
     "name": "stdout",
     "output_type": "stream",
     "text": [
      "<p class=\"odd\" id=\"first\">First</p>\n",
      "<p class=\"odd\" id=\"third\">Third</p>\n",
      "<p class=\"odd\" id=\"fifth\">Fifth</p>\n"
     ]
    }
   ],
   "source": [
    "for odd in odds:\n",
    "    print(odd)"
   ]
  },
  {
   "cell_type": "code",
   "execution_count": 9,
   "id": "334b7676",
   "metadata": {},
   "outputs": [
    {
     "name": "stdout",
     "output_type": "stream",
     "text": [
      "First\n",
      "Third\n",
      "Fifth\n"
     ]
    }
   ],
   "source": [
    "for odd in odds:\n",
    "    print(odd.text)"
   ]
  },
  {
   "cell_type": "code",
   "execution_count": 10,
   "id": "4549b4a6",
   "metadata": {},
   "outputs": [
    {
     "name": "stdout",
     "output_type": "stream",
     "text": [
      "First\n"
     ]
    }
   ],
   "source": [
    "first = html_soup.find(\"p\", id=\"first\")\n",
    "print(first.text)"
   ]
  }
 ],
 "metadata": {
  "kernelspec": {
   "display_name": "PythonData",
   "language": "python",
   "name": "pythondata"
  },
  "language_info": {
   "codemirror_mode": {
    "name": "ipython",
    "version": 3
   },
   "file_extension": ".py",
   "mimetype": "text/x-python",
   "name": "python",
   "nbconvert_exporter": "python",
   "pygments_lexer": "ipython3",
   "version": "3.7.15"
  }
 },
 "nbformat": 4,
 "nbformat_minor": 5
}
