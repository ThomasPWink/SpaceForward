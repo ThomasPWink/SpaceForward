{
 "cells": [
  {
   "cell_type": "code",
   "execution_count": 1,
   "id": "be316c19",
   "metadata": {},
   "outputs": [],
   "source": [
    "from bs4 import BeautifulSoup as soup"
   ]
  },
  {
   "cell_type": "code",
   "execution_count": 2,
   "id": "3a3f6a27",
   "metadata": {},
   "outputs": [],
   "source": [
    "html =\"\"\" \n",
    "<!DOCTYPE html>\n",
    "<html lang=\"en\">\n",
    "\n",
    "<head>\n",
    "    <meta charset=\"UTF-8\">\n",
    "    <meta http-equiv=\"X-UA-Compatible\" content=\"IE=edge\">\n",
    "    <meta name=\"viewport\" content=\"width=device-width, initial-scale=1.0\">\n",
    "    <title>Document</title>\n",
    "</head>\n",
    "\n",
    "<body>\n",
    "    <h1>pandas</h1>\n",
    "    <blockquote>pandas is a powerful Python data analysis library. </blockquote>\n",
    "\n",
    "    <div id=\"start\" , class=\"section\">\n",
    "        <h3 class=\"section-header\">Getting Started</h3>\n",
    "        <ul class=\"pandas-ul\">\n",
    "            <a href=\"https://pandas.pydata.org/getting_started.html\">\n",
    "                <li>Install pandas</li>\n",
    "            </a>\n",
    "            <a href=\"https://pandas.pydata.org/docs/getting_started/index.html\">\n",
    "                <li>Getting started</li>\n",
    "            </a>\n",
    "        </ul>\n",
    "    </div>\n",
    "\n",
    "    <div id=\"documentation\" , class=\"section\">\n",
    "        <h3 class=\"section-header\">Documentation</h3>\n",
    "        <ul class=\"pandas-ul\">\n",
    "            <a href=\"https://pandas.pydata.org/docs/user_guide/index.html\">\n",
    "                <li>User guide</li>\n",
    "            </a>\n",
    "            <a href=\"https://pandas.pydata.org/docs/reference/index.html\">\n",
    "                <li>API reference</li>\n",
    "            </a>\n",
    "            <a href=\"https://pandas.pydata.org/docs/development/index.html\">\n",
    "                <li>How to contribute to pandas</li>\n",
    "            </a>\n",
    "        </ul>\n",
    "    </div>\n",
    "\n",
    "    <div id=\"community\" , class=\"section\">\n",
    "        <h3 class=\"section-header\">The pandas Community</h3>\n",
    "        <ul class=\"pandas-ul\">\n",
    "            <a href=\"https://pandas.pydata.org/about/index.html\">\n",
    "                <li>More about pandas</li>\n",
    "            </a>\n",
    "            <a href=\"https://stackoverflow.com/questions/tagged/pandas\">\n",
    "                <li>Have questions?</li>\n",
    "            </a>\n",
    "            <a href=\"https://pandas.pydata.org/community/ecosystem.html\">\n",
    "                <li>The pandas ecosystem</li>\n",
    "            </a>\n",
    "        </ul>\n",
    "    </div>\n",
    "</body>\n",
    "\n",
    "</html>\n",
    "\"\"\""
   ]
  },
  {
   "cell_type": "code",
   "execution_count": 3,
   "id": "387b4387",
   "metadata": {},
   "outputs": [],
   "source": [
    "html_soup = soup(html, 'html.parser')"
   ]
  },
  {
   "cell_type": "code",
   "execution_count": 6,
   "id": "ffe6c1a2",
   "metadata": {
    "scrolled": true
   },
   "outputs": [
    {
     "name": "stdout",
     "output_type": "stream",
     "text": [
      "Getting Started\n",
      "Documentation\n",
      "The pandas Community\n"
     ]
    }
   ],
   "source": [
    "h3headers = html_soup.find_all('h3')\n",
    "for h3 in h3headers:\n",
    "    print(h3.text)"
   ]
  },
  {
   "cell_type": "code",
   "execution_count": 8,
   "id": "6a92fb36",
   "metadata": {},
   "outputs": [
    {
     "name": "stdout",
     "output_type": "stream",
     "text": [
      "[<div ,=\"\" class=\"section\" id=\"start\">\n",
      "<h3 class=\"section-header\">Getting Started</h3>\n",
      "<ul class=\"pandas-ul\">\n",
      "<a href=\"https://pandas.pydata.org/getting_started.html\">\n",
      "<li>Install pandas</li>\n",
      "</a>\n",
      "<a href=\"https://pandas.pydata.org/docs/getting_started/index.html\">\n",
      "<li>Getting started</li>\n",
      "</a>\n",
      "</ul>\n",
      "</div>]\n"
     ]
    }
   ],
   "source": [
    "start = html_soup.find_all(\"div\", id=\"start\")\n",
    "print(start)"
   ]
  }
 ],
 "metadata": {
  "kernelspec": {
   "display_name": "PythonData",
   "language": "python",
   "name": "pythondata"
  },
  "language_info": {
   "codemirror_mode": {
    "name": "ipython",
    "version": 3
   },
   "file_extension": ".py",
   "mimetype": "text/x-python",
   "name": "python",
   "nbconvert_exporter": "python",
   "pygments_lexer": "ipython3",
   "version": "3.7.15"
  }
 },
 "nbformat": 4,
 "nbformat_minor": 5
}
